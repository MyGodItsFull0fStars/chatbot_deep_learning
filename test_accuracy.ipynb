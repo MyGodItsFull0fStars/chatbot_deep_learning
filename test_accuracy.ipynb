{
 "cells": [
  {
   "cell_type": "code",
   "execution_count": 1,
   "metadata": {},
   "outputs": [],
   "source": [
    "import json\n",
    "from squad import *\n",
    "from test_accuracy import get_accuracy\n",
    "from train_squad import *"
   ]
  },
  {
   "cell_type": "code",
   "execution_count": 2,
   "metadata": {},
   "outputs": [
    {
     "name": "stdout",
     "output_type": "stream",
     "text": [
      "train data\n",
      "data set\n",
      "train_loader\n",
      "model\n"
     ]
    },
    {
     "ename": "NameError",
     "evalue": "name 'model' is not defined",
     "output_type": "error",
     "traceback": [
      "\u001b[0;31m---------------------------------------------------------------------------\u001b[0m",
      "\u001b[0;31mNameError\u001b[0m                                 Traceback (most recent call last)",
      "\u001b[0;32m<ipython-input-2-66b3f5ff42b1>\u001b[0m in \u001b[0;36m<module>\u001b[0;34m\u001b[0m\n\u001b[1;32m     31\u001b[0m     \u001b[0mmodel\u001b[0m\u001b[0;34m.\u001b[0m\u001b[0mload_state_dict\u001b[0m\u001b[0;34m(\u001b[0m\u001b[0mmodel_data\u001b[0m\u001b[0;34m[\u001b[0m\u001b[0mMODEL_STATE\u001b[0m\u001b[0;34m]\u001b[0m\u001b[0;34m)\u001b[0m\u001b[0;34m\u001b[0m\u001b[0;34m\u001b[0m\u001b[0m\n\u001b[1;32m     32\u001b[0m \u001b[0;34m\u001b[0m\u001b[0m\n\u001b[0;32m---> 33\u001b[0;31m \u001b[0mprint\u001b[0m\u001b[0;34m(\u001b[0m\u001b[0mget_accuracy\u001b[0m\u001b[0;34m(\u001b[0m\u001b[0mtrain_loader\u001b[0m\u001b[0;34m,\u001b[0m \u001b[0mmodel\u001b[0m\u001b[0;34m)\u001b[0m\u001b[0;34m)\u001b[0m\u001b[0;34m\u001b[0m\u001b[0;34m\u001b[0m\u001b[0m\n\u001b[0m",
      "\u001b[0;31mNameError\u001b[0m: name 'model' is not defined"
     ]
    }
   ],
   "source": [
    "input_size = len(all_words)\n",
    "output_size = len(tags)\n",
    "hidden_size = int(output_size * 1.2)\n",
    "\n",
    "print('train data')\n",
    "train_data = TrainData()\n",
    "\n",
    "X_train, y_train = train_data.get_X_y_train()\n",
    "print('data set')\n",
    "dataset = ChatDataSet(X_train, y_train)\n",
    "\n",
    "print('train_loader')\n",
    "train_loader = DataLoader(\n",
    "    dataset=dataset,\n",
    "    batch_size=16,\n",
    "    shuffle=True,\n",
    "    num_workers=5,\n",
    ")\n",
    "\n",
    "device = get_training_device()\n",
    "\n",
    "print('model')\n",
    "model_data = load_model(\"model_1.2_hidden_layer/squad_train_100_episodes.pth\")\n",
    "\n",
    "if model_data is not None:\n",
    "    print(\"pretrained model found\")\n",
    "    input_size = model_data[INPUT_SIZE]\n",
    "    output_size = model_data[OUTPUT_SIZE]\n",
    "    hidden_size = model_data[HIDDEN_SIZE]\n",
    "    model = NeuralNetSmall(input_size, hidden_size, output_size).to(device)\n",
    "    model.load_state_dict(model_data[MODEL_STATE])\n",
    "\n",
    "print(get_accuracy(train_loader, model))"
   ]
  }
 ],
 "metadata": {
  "interpreter": {
   "hash": "64e23d880b805501f5bfe4166e542d691e15199071dc059f19bfc7b17de3b1db"
  },
  "kernelspec": {
   "display_name": "Python 3.9.4 64-bit ('chat_bot_env': conda)",
   "name": "python3"
  },
  "language_info": {
   "codemirror_mode": {
    "name": "ipython",
    "version": 3
   },
   "file_extension": ".py",
   "mimetype": "text/x-python",
   "name": "python",
   "nbconvert_exporter": "python",
   "pygments_lexer": "ipython3",
   "version": "3.9.4"
  },
  "orig_nbformat": 4
 },
 "nbformat": 4,
 "nbformat_minor": 2
}
