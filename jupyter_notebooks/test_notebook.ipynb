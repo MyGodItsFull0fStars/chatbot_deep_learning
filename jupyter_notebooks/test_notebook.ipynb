{
 "cells": [
  {
   "cell_type": "code",
   "execution_count": 1,
   "metadata": {},
   "outputs": [
    {
     "name": "stdout",
     "output_type": "stream",
     "text": [
      "True\n"
     ]
    }
   ],
   "source": [
    "import json\n",
    "import os\n",
    "\n",
    "import json_utils\n",
    "\n",
    "model_name = 'test_model'\n",
    "dir_name = 'test_dir'\n",
    "file_name = f'accuracy_loss_{model_name}'\n",
    "\n",
    "print(json_utils.init_accuracy_loss_json_file(model_name, dir_name, file_name))\n"
   ]
  },
  {
   "cell_type": "code",
   "execution_count": 2,
   "metadata": {},
   "outputs": [],
   "source": [
    "from random import random\n",
    "\n",
    "\n",
    "accuracy = []\n",
    "loss = []\n",
    "for _ in range(10):\n",
    "    accuracy.append(random() * 5)\n",
    "    loss.append(random() * 4)\n",
    "\n",
    "accuracy.append(1.01010101)\n",
    "loss.append(1.01010101)\n",
    "\n",
    "json_utils.update_accuracy_loss_json_file(dir_name, file_name, accuracy, loss)\n"
   ]
  },
  {
   "cell_type": "code",
   "execution_count": 6,
   "metadata": {},
   "outputs": [],
   "source": [
    "\n",
    "new_accuracy = []\n",
    "for _ in range(10):\n",
    "    new_accuracy.append(random() * 4)\n",
    "\n",
    "json_utils.update_accuracy(dir_name, file_name, new_accuracy)\n",
    "\n"
   ]
  },
  {
   "cell_type": "code",
   "execution_count": 3,
   "metadata": {},
   "outputs": [],
   "source": [
    "new_loss = []\n",
    "\n",
    "for _ in range(50):\n",
    "    new_loss.append(random() * 1000)\n",
    "\n",
    "json_utils.update_loss(dir_name, file_name, new_loss)"
   ]
  },
  {
   "cell_type": "code",
   "execution_count": 5,
   "metadata": {},
   "outputs": [
    {
     "name": "stdout",
     "output_type": "stream",
     "text": [
      "test_model\n",
      "11\n",
      "61\n"
     ]
    }
   ],
   "source": [
    "name, accuracy, loss = json_utils.get_values_from_json(dir_name, file_name)\n",
    "\n",
    "print(name)\n",
    "print(len(accuracy))\n",
    "print(len(loss))"
   ]
  }
 ],
 "metadata": {
  "interpreter": {
   "hash": "64e23d880b805501f5bfe4166e542d691e15199071dc059f19bfc7b17de3b1db"
  },
  "kernelspec": {
   "display_name": "Python 3.9.4 64-bit ('chat_bot_env': conda)",
   "name": "python3"
  },
  "language_info": {
   "codemirror_mode": {
    "name": "ipython",
    "version": 3
   },
   "file_extension": ".py",
   "mimetype": "text/x-python",
   "name": "python",
   "nbconvert_exporter": "python",
   "pygments_lexer": "ipython3",
   "version": "3.9.4"
  },
  "orig_nbformat": 4
 },
 "nbformat": 4,
 "nbformat_minor": 2
}
