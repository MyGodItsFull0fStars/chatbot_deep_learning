{
 "cells": [
  {
   "cell_type": "markdown",
   "metadata": {},
   "source": [
    "# The Stanford Question Answering Dataset\n",
    "\n",
    "Consists of a Question-Answering Dataset, and a reference text is provided to each of the topics to also feed into the training process.\n",
    "\n",
    "Example: https://rajpurkar.github.io/SQuAD-explorer/explore/1.1/dev/Nikola_Tesla.html\n",
    "\n",
    "For each question, there are ground truth answers, which are passages from the reference text and the model prediction."
   ]
  },
  {
   "cell_type": "markdown",
   "metadata": {},
   "source": [
    "## Bert Structure\n",
    "\n",
    "Bert has 24 layers and an embedding size of `1024` for a total of 340 million parameters! This all together results in a size of 1,34GB.\n",
    "\n",
    "The final embedding will be multiplied by the start weight factor of the input and a soft-max function $\\frac{e^x}{\\sum e^x}$ is applied on this output. This process is also applied of the end weight factor.\n"
   ]
  },
  {
   "cell_type": "code",
   "execution_count": 1,
   "metadata": {},
   "outputs": [
    {
     "name": "stdout",
     "output_type": "stream",
     "text": [
      "Requirement already satisfied: transformers in /Users/christianbauer/opt/anaconda3/envs/bert/lib/python3.9/site-packages (4.16.2)\n",
      "Requirement already satisfied: packaging>=20.0 in /Users/christianbauer/opt/anaconda3/envs/bert/lib/python3.9/site-packages (from transformers) (21.3)\n",
      "Requirement already satisfied: numpy>=1.17 in /Users/christianbauer/opt/anaconda3/envs/bert/lib/python3.9/site-packages (from transformers) (1.21.2)\n",
      "Requirement already satisfied: huggingface-hub<1.0,>=0.1.0 in /Users/christianbauer/opt/anaconda3/envs/bert/lib/python3.9/site-packages (from transformers) (0.4.0)\n",
      "Requirement already satisfied: filelock in /Users/christianbauer/opt/anaconda3/envs/bert/lib/python3.9/site-packages (from transformers) (3.4.2)\n",
      "Requirement already satisfied: sacremoses in /Users/christianbauer/opt/anaconda3/envs/bert/lib/python3.9/site-packages (from transformers) (0.0.47)\n",
      "Requirement already satisfied: pyyaml>=5.1 in /Users/christianbauer/opt/anaconda3/envs/bert/lib/python3.9/site-packages (from transformers) (6.0)\n",
      "Requirement already satisfied: requests in /Users/christianbauer/opt/anaconda3/envs/bert/lib/python3.9/site-packages (from transformers) (2.27.1)\n",
      "Requirement already satisfied: tqdm>=4.27 in /Users/christianbauer/opt/anaconda3/envs/bert/lib/python3.9/site-packages (from transformers) (4.62.3)\n",
      "Requirement already satisfied: regex!=2019.12.17 in /Users/christianbauer/opt/anaconda3/envs/bert/lib/python3.9/site-packages (from transformers) (2022.1.18)\n",
      "Requirement already satisfied: tokenizers!=0.11.3,>=0.10.1 in /Users/christianbauer/opt/anaconda3/envs/bert/lib/python3.9/site-packages (from transformers) (0.11.4)\n",
      "Requirement already satisfied: typing-extensions>=3.7.4.3 in /Users/christianbauer/opt/anaconda3/envs/bert/lib/python3.9/site-packages (from huggingface-hub<1.0,>=0.1.0->transformers) (4.0.1)\n",
      "Requirement already satisfied: pyparsing!=3.0.5,>=2.0.2 in /Users/christianbauer/opt/anaconda3/envs/bert/lib/python3.9/site-packages (from packaging>=20.0->transformers) (3.0.4)\n",
      "Requirement already satisfied: idna<4,>=2.5 in /Users/christianbauer/opt/anaconda3/envs/bert/lib/python3.9/site-packages (from requests->transformers) (3.3)\n",
      "Requirement already satisfied: certifi>=2017.4.17 in /Users/christianbauer/opt/anaconda3/envs/bert/lib/python3.9/site-packages (from requests->transformers) (2021.10.8)\n",
      "Requirement already satisfied: charset-normalizer~=2.0.0 in /Users/christianbauer/opt/anaconda3/envs/bert/lib/python3.9/site-packages (from requests->transformers) (2.0.11)\n",
      "Requirement already satisfied: urllib3<1.27,>=1.21.1 in /Users/christianbauer/opt/anaconda3/envs/bert/lib/python3.9/site-packages (from requests->transformers) (1.26.8)\n",
      "Requirement already satisfied: six in /Users/christianbauer/opt/anaconda3/envs/bert/lib/python3.9/site-packages (from sacremoses->transformers) (1.16.0)\n",
      "Requirement already satisfied: click in /Users/christianbauer/opt/anaconda3/envs/bert/lib/python3.9/site-packages (from sacremoses->transformers) (8.0.3)\n",
      "Requirement already satisfied: joblib in /Users/christianbauer/opt/anaconda3/envs/bert/lib/python3.9/site-packages (from sacremoses->transformers) (1.1.0)\n"
     ]
    }
   ],
   "source": [
    "!pip install transformers"
   ]
  },
  {
   "cell_type": "markdown",
   "metadata": {},
   "source": [
    "## Import PyTorch"
   ]
  },
  {
   "cell_type": "code",
   "execution_count": 10,
   "metadata": {},
   "outputs": [],
   "source": [
    "import torch"
   ]
  },
  {
   "cell_type": "code",
   "execution_count": 3,
   "metadata": {},
   "outputs": [
    {
     "name": "stderr",
     "output_type": "stream",
     "text": [
      "Downloading: 100%|██████████| 443/443 [00:00<00:00, 90.3kB/s]\n",
      "Downloading: 100%|██████████| 1.25G/1.25G [26:26<00:00, 845kB/s]    \n"
     ]
    }
   ],
   "source": [
    "from transformers import BertForQuestionAnswering\n",
    "\n",
    "pretrained_model_name: str = 'bert-large-uncased-whole-word-masking-finetuned-squad'\n",
    "\n",
    "model = BertForQuestionAnswering.from_pretrained(pretrained_model_name)"
   ]
  },
  {
   "cell_type": "code",
   "execution_count": 4,
   "metadata": {},
   "outputs": [
    {
     "name": "stderr",
     "output_type": "stream",
     "text": [
      "Downloading: 100%|██████████| 28.0/28.0 [00:00<00:00, 8.30kB/s]\n",
      "Downloading: 100%|██████████| 226k/226k [00:00<00:00, 304kB/s]  \n",
      "Downloading: 100%|██████████| 455k/455k [00:01<00:00, 385kB/s]  \n"
     ]
    }
   ],
   "source": [
    "from transformers import BertTokenizer\n",
    "\n",
    "tokenizer = BertTokenizer.from_pretrained(pretrained_model_name)"
   ]
  },
  {
   "cell_type": "markdown",
   "metadata": {},
   "source": [
    "## Ask a Question\n",
    "\n",
    "A Question-Answer sample consists of a question and a text passage containing the answer to that question.\n",
    "\n",
    "In the following example, the answer should be 340M."
   ]
  },
  {
   "cell_type": "code",
   "execution_count": 6,
   "metadata": {},
   "outputs": [],
   "source": [
    "question: str = \"How many parameters does BERT-large have?\"\n",
    "answer_text: str = \"BERT-large is really big... it has 24-layers and an embedding size of 1,024, for a total of 340M parameters! Altogether it is 1.34GB, so expect it to take a couple minutes to download to your Colab instance.\""
   ]
  },
  {
   "cell_type": "markdown",
   "metadata": {},
   "source": [
    "BERT tokenizer has to be run against both the `question` and the `answer_text`.\n",
    "These variables are first concatenated with a `[SEP]` token as delimiter between them and then fed into BERT."
   ]
  },
  {
   "cell_type": "code",
   "execution_count": 7,
   "metadata": {},
   "outputs": [
    {
     "name": "stdout",
     "output_type": "stream",
     "text": [
      "The input has a total of 70 tokens.\n"
     ]
    }
   ],
   "source": [
    "# Apply the tokenizer to the input text, threating them as a text-pair\n",
    "input_ids = tokenizer.encode(question, answer_text)\n",
    "\n",
    "print(f'The input has a total of {len(input_ids)} tokens.')"
   ]
  },
  {
   "cell_type": "code",
   "execution_count": 8,
   "metadata": {},
   "outputs": [
    {
     "name": "stdout",
     "output_type": "stream",
     "text": [
      "[CLS]           101\n",
      "how           2,129\n",
      "many          2,116\n",
      "parameters   11,709\n",
      "does          2,515\n",
      "bert         14,324\n",
      "-             1,011\n",
      "large         2,312\n",
      "have          2,031\n",
      "?             1,029\n",
      "\n",
      "[SEP]           102\n",
      "\n",
      "bert         14,324\n",
      "-             1,011\n",
      "large         2,312\n",
      "is            2,003\n",
      "really        2,428\n",
      "big           2,502\n",
      ".             1,012\n",
      ".             1,012\n",
      ".             1,012\n",
      "it            2,009\n",
      "has           2,038\n",
      "24            2,484\n",
      "-             1,011\n",
      "layers        9,014\n",
      "and           1,998\n",
      "an            2,019\n",
      "em            7,861\n",
      "##bed         8,270\n",
      "##ding        4,667\n",
      "size          2,946\n",
      "of            1,997\n",
      "1             1,015\n",
      ",             1,010\n",
      "02            6,185\n",
      "##4           2,549\n",
      ",             1,010\n",
      "for           2,005\n",
      "a             1,037\n",
      "total         2,561\n",
      "of            1,997\n",
      "340          16,029\n",
      "##m           2,213\n",
      "parameters   11,709\n",
      "!               999\n",
      "altogether   10,462\n",
      "it            2,009\n",
      "is            2,003\n",
      "1             1,015\n",
      ".             1,012\n",
      "34            4,090\n",
      "##gb         18,259\n",
      ",             1,010\n",
      "so            2,061\n",
      "expect        5,987\n",
      "it            2,009\n",
      "to            2,000\n",
      "take          2,202\n",
      "a             1,037\n",
      "couple        3,232\n",
      "minutes       2,781\n",
      "to            2,000\n",
      "download      8,816\n",
      "to            2,000\n",
      "your          2,115\n",
      "cola         15,270\n",
      "##b           2,497\n",
      "instance      6,013\n",
      ".             1,012\n",
      "\n",
      "[SEP]           102\n",
      "\n"
     ]
    }
   ],
   "source": [
    "tokens = tokenizer.convert_ids_to_tokens(input_ids)\n",
    "\n",
    "for token, id in zip(tokens, input_ids):\n",
    "\n",
    "    if id == tokenizer.sep_token_id:\n",
    "        print('')\n",
    "\n",
    "    print(f'{token:<12} {id:>6,}')\n",
    "\n",
    "    if id == tokenizer.sep_token_id:\n",
    "        print('')"
   ]
  },
  {
   "cell_type": "code",
   "execution_count": 9,
   "metadata": {},
   "outputs": [],
   "source": [
    "# Search the input_ids for the first instance of the `[SEP]` token\n",
    "sep_index = input_ids.index(tokenizer.sep_token_id)\n",
    "\n",
    "# The number of segment A tokens includes the [SEP] token itself\n",
    "num_seq_a = sep_index + 1\n",
    "\n",
    "# the remainder are segment B\n",
    "num_seq_b = len(input_ids) - num_seq_a\n",
    "\n",
    "# Construct the list of 0s and 1s\n",
    "segment_ids = [0] * num_seq_a + [1] * num_seq_b\n",
    "\n",
    "# There should be a segment_id for every input token\n",
    "assert len(segment_ids) == len(input_ids)"
   ]
  },
  {
   "cell_type": "code",
   "execution_count": 15,
   "metadata": {},
   "outputs": [],
   "source": [
    "outputs = model(torch.tensor([input_ids]), # the tokens representing our input text\n",
    "                             token_type_ids=torch.tensor([segment_ids]), # The segment IDs to differentiate question from answer_text\n",
    "                             return_dict=True)\n",
    "\n",
    "start_scores = outputs.start_logits\n",
    "end_scores = outputs.end_logits"
   ]
  },
  {
   "cell_type": "markdown",
   "metadata": {},
   "source": [
    "### Highlight the answer by looking at the most probable start and end words\n"
   ]
  },
  {
   "cell_type": "code",
   "execution_count": 18,
   "metadata": {},
   "outputs": [
    {
     "name": "stdout",
     "output_type": "stream",
     "text": [
      "Answer: <340 ##m>\n"
     ]
    }
   ],
   "source": [
    "answer_start = torch.argmax(start_scores)\n",
    "answer_end = torch.argmax(end_scores)\n",
    "\n",
    "answer = ' '.join(tokens[answer_start:answer_end+1])\n",
    "\n",
    "print(f'Answer: <{answer}>')"
   ]
  },
  {
   "cell_type": "code",
   "execution_count": 20,
   "metadata": {},
   "outputs": [
    {
     "name": "stdout",
     "output_type": "stream",
     "text": [
      "Answer: '340m'\n"
     ]
    }
   ],
   "source": [
    "# Start with the first token\n",
    "answer = tokens[answer_start]\n",
    "\n",
    "# Select remaining answer tokens and join them with whitespace\n",
    "for idx in range(answer_start + 1, answer_end + 1):\n",
    "\n",
    "    # If it's a subword token, then recombine it with the previous token\n",
    "    if tokens[idx][0:2] == '##':\n",
    "        answer += tokens[idx][2:]\n",
    "\n",
    "    # Otherwise add a space then the token\n",
    "    else:\n",
    "        answer += f' {tokens[idx]}' \n",
    "\n",
    "print(f\"Answer: '{answer}'\")"
   ]
  },
  {
   "cell_type": "markdown",
   "metadata": {},
   "source": [
    "### Visualizing Scores\n",
    "\n",
    "Generate bar plots that show the start and end scores for every word in the input."
   ]
  },
  {
   "cell_type": "code",
   "execution_count": 22,
   "metadata": {},
   "outputs": [],
   "source": [
    "import matplotlib.pyplot as plt\n",
    "import seaborn as sns\n",
    "\n",
    "# Use plot styling from seaborn\n",
    "sns.set(style='darkgrid')\n",
    "\n",
    "# Increase the plot size and font size\n",
    "plt.rcParams['figure.figsize'] = (16, 8)"
   ]
  },
  {
   "cell_type": "markdown",
   "metadata": {},
   "source": [
    "### Retrieving the start and end scores, use tokens as x-axis labels."
   ]
  },
  {
   "cell_type": "code",
   "execution_count": 23,
   "metadata": {},
   "outputs": [],
   "source": [
    "# Pull the scores out of PyTorch Tensors and convert them to 1D numpy arrays\n",
    "s_scores = start_scores.detach().numpy().flatten()\n",
    "e_scores = end_scores.detach().numpy().flatten()\n",
    "\n",
    "# Use the tokens as the x-axis labels. In order to do that, they all need \n",
    "# to be unique, so the token index gets added to the end of each one\n",
    "token_labels = []\n",
    "for (idx, token) in enumerate(tokens):\n",
    "    token_labels.append(f'{token:} - {idx:>2}')"
   ]
  },
  {
   "cell_type": "markdown",
   "metadata": {},
   "source": [
    "#### Create a bar plot showing the score for every input word being the 'start' work"
   ]
  },
  {
   "cell_type": "code",
   "execution_count": 25,
   "metadata": {},
   "outputs": [
    {
     "data": {
      "image/png": "[encoded data removed]",
      "text/plain": [
       "<Figure size 1152x576 with 1 Axes>"
      ]
     },
     "metadata": {},
     "output_type": "display_data"
    }
   ],
   "source": [
    "# Create a barplot showing the start word score for all of the tokens\n",
    "ax = sns.barplot(x=token_labels, y=s_scores, ci=None)\n",
    "\n",
    "# Turn the xlabels vertical\n",
    "ax.set_xticklabels(ax.get_xticklabels(), rotation=90, ha='center')\n",
    "\n",
    "# Turn on the vertical grid to help align words to scores\n",
    "ax.grid(True)\n",
    "\n",
    "plt.title('Start Word Scores')\n",
    "\n",
    "plt.show()"
   ]
  },
  {
   "cell_type": "code",
   "execution_count": null,
   "metadata": {},
   "outputs": [],
   "source": [
    "# Create a barplot showing the start word score for all of the tokens\n",
    "ax = sns.barplot(x=token_labels, y=e_scores, ci=None)\n",
    "\n",
    "# Turn the xlabels vertical\n",
    "ax.set_xticklabels(ax.get_xticklabels(), rotation=90, ha='center')\n",
    "\n",
    "# Turn on the vertical grid to help align words to scores\n",
    "ax.grid(True)\n",
    "\n",
    "plt.title('Start Word Scores')\n",
    "\n",
    "plt.show()"
   ]
  }
 ],
 "metadata": {
  "interpreter": {
   "hash": "c558d1472f8a380bf1a5a544e2d380502c2ea1ff8be328d6be4bd20ca265223b"
  },
  "kernelspec": {
   "display_name": "Python 3.9.7 ('bert')",
   "language": "python",
   "name": "python3"
  },
  "language_info": {
   "codemirror_mode": {
    "name": "ipython",
    "version": 3
   },
   "file_extension": ".py",
   "mimetype": "text/x-python",
   "name": "python",
   "nbconvert_exporter": "python",
   "pygments_lexer": "ipython3",
   "version": "3.9.7"
  },
  "orig_nbformat": 4
 },
 "nbformat": 4,
 "nbformat_minor": 2
}
