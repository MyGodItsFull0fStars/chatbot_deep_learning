{
 "cells": [
  {
   "cell_type": "markdown",
   "metadata": {},
   "source": [
    "## Sources:\n",
    "\n",
    "- https://towardsdatascience.com/how-to-train-bert-for-q-a-in-any-language-63b62c780014"
   ]
  },
  {
   "cell_type": "code",
   "execution_count": 1,
   "metadata": {},
   "outputs": [],
   "source": [
    "import torch\n",
    "import numpy as np\n",
    "from torch.utils.data import DataLoader\n",
    "from transformers import BertForQuestionAnswering, BertTokenizerFast, AdamW\n",
    "from datasets import load_dataset\n",
    "import wandb\n",
    "from tqdm.notebook import tqdm, trange, tqdm_notebook # show progress bar\n",
    "from sklearn.metrics import f1_score"
   ]
  },
  {
   "cell_type": "markdown",
   "metadata": {},
   "source": [
    "## Load Dataset and Split into Training and Validation Datasets"
   ]
  },
  {
   "cell_type": "code",
   "execution_count": 2,
   "metadata": {},
   "outputs": [
    {
     "name": "stderr",
     "output_type": "stream",
     "text": [
      "Reusing dataset squad (/home/christian/.cache/huggingface/datasets/squad/plain_text/1.0.0/d6ec3ceb99ca480ce37cdd35555d6cb2511d223b9150cce08a837ef62ffea453)\n",
      "100%|██████████| 2/2 [00:00<00:00, 280.58it/s]\n"
     ]
    },
    {
     "data": {
      "text/plain": [
       "Dataset({\n",
       "    features: ['id', 'title', 'context', 'question', 'answers'],\n",
       "    num_rows: 87599\n",
       "})"
      ]
     },
     "execution_count": 2,
     "metadata": {},
     "output_type": "execute_result"
    }
   ],
   "source": [
    "dataset = load_dataset(\"squad\")\n",
    "train_dataset, validation_dataset = dataset['train'], dataset['validation']\n",
    "train_dataset"
   ]
  },
  {
   "cell_type": "markdown",
   "metadata": {},
   "source": [
    "## See a sample question answer set"
   ]
  },
  {
   "cell_type": "code",
   "execution_count": 3,
   "metadata": {},
   "outputs": [],
   "source": [
    "def add_end_idx(answers, contexts):\n",
    "    new_answers = []\n",
    "    # loop through each answer-context pair\n",
    "    for answer, context in tqdm(zip(answers, contexts)):\n",
    "        # quick reformating to remove lists\n",
    "        answer['text'] = answer['text'][0]\n",
    "        answer['answer_start'] = answer['answer_start'][0]\n",
    "        # gold_text refers to the answer we are expecting to find in context\n",
    "        gold_text = answer['text']\n",
    "        # we already know the start index\n",
    "        start_idx = answer['answer_start']\n",
    "        # and ideally this would be the end index...\n",
    "        end_idx = start_idx + len(gold_text)\n",
    "\n",
    "        # ...however, sometimes squad answers are off by a character or two\n",
    "        if context[start_idx:end_idx] == gold_text:\n",
    "            # if the answer is not off :)\n",
    "            answer['answer_end'] = end_idx\n",
    "        else:\n",
    "            # this means the answer is off by 1-2 tokens\n",
    "            for n in [1, 2]:\n",
    "                if context[start_idx-n:end_idx-n] == gold_text:\n",
    "                    answer['answer_start'] = start_idx - n\n",
    "                    answer['answer_end'] = end_idx - n\n",
    "        new_answers.append(answer)\n",
    "    return new_answers\n",
    "\n",
    "def prep_data(dataset):\n",
    "    questions = dataset['question']\n",
    "    contexts = dataset['context']\n",
    "    answers = add_end_idx(\n",
    "        dataset['answers'],\n",
    "        contexts\n",
    "    )\n",
    "    return {\n",
    "        'question': questions,\n",
    "        'context': contexts,\n",
    "        'answers': answers\n",
    "    }"
   ]
  },
  {
   "cell_type": "markdown",
   "metadata": {},
   "source": [
    "## Initialize Model, Tokenizer and Optimizer"
   ]
  },
  {
   "cell_type": "code",
   "execution_count": 4,
   "metadata": {},
   "outputs": [],
   "source": [
    "# train_dataset = prep_data(train_dataset)\n",
    "# validation_dataset = prep_data(validation_dataset)\n",
    "# train_dataset['answers'][:3]"
   ]
  },
  {
   "cell_type": "code",
   "execution_count": 5,
   "metadata": {},
   "outputs": [
    {
     "name": "stderr",
     "output_type": "stream",
     "text": [
      "Some weights of the model checkpoint at bert-base-uncased were not used when initializing BertForQuestionAnswering: ['cls.predictions.bias', 'cls.predictions.transform.dense.weight', 'cls.predictions.decoder.weight', 'cls.seq_relationship.weight', 'cls.seq_relationship.bias', 'cls.predictions.transform.dense.bias', 'cls.predictions.transform.LayerNorm.weight', 'cls.predictions.transform.LayerNorm.bias']\n",
      "- This IS expected if you are initializing BertForQuestionAnswering from the checkpoint of a model trained on another task or with another architecture (e.g. initializing a BertForSequenceClassification model from a BertForPreTraining model).\n",
      "- This IS NOT expected if you are initializing BertForQuestionAnswering from the checkpoint of a model that you expect to be exactly identical (initializing a BertForSequenceClassification model from a BertForSequenceClassification model).\n",
      "Some weights of BertForQuestionAnswering were not initialized from the model checkpoint at bert-base-uncased and are newly initialized: ['qa_outputs.bias', 'qa_outputs.weight']\n",
      "You should probably TRAIN this model on a down-stream task to be able to use it for predictions and inference.\n"
     ]
    }
   ],
   "source": [
    "pretrained_model_name: str = 'bert-large-uncased-whole-word-masking-finetuned-squad'\n",
    "model = BertForQuestionAnswering.from_pretrained('bert-base-uncased')\n",
    "tokenizer = BertTokenizerFast.from_pretrained('bert-base-uncased')\n",
    "# tokenize\n",
    "# train = tokenizer(train_dataset['context'], train_dataset['question'],\n",
    "#                           truncation=True, padding='max_length',\n",
    "#                           max_length=512, return_tensors='pt')\n",
    "\n",
    "# validation = tokenizer(validation_dataset['context'], validation_dataset['question'],\n",
    "#                           truncation=True, padding='max_length',\n",
    "#                           max_length=512, return_tensors='pt')\n",
    "            "
   ]
  },
  {
   "cell_type": "code",
   "execution_count": 6,
   "metadata": {},
   "outputs": [],
   "source": [
    "# tokenizer.decode(train['input_ids'][0])[:855]\n",
    "# tokenizer.decode(validation['input_ids'][0])[:855]"
   ]
  },
  {
   "cell_type": "code",
   "execution_count": 7,
   "metadata": {},
   "outputs": [],
   "source": [
    "def add_token_positions(encodings, answers):\n",
    "    # initialize lists to contain the token indices of answer start/end\n",
    "    start_positions = []\n",
    "    end_positions = []\n",
    "    for i in tqdm(range(len(answers))):\n",
    "        # append start/end token position using char_to_token method\n",
    "        start_positions.append(encodings.char_to_token(i, answers[i]['answer_start']))\n",
    "        end_positions.append(encodings.char_to_token(i, answers[i]['answer_end']))\n",
    "\n",
    "        # if start position is None, the answer passage has been truncated\n",
    "        if start_positions[-1] is None:\n",
    "            start_positions[-1] = tokenizer.model_max_length\n",
    "        # end position cannot be found, char_to_token found space, so shift position until found\n",
    "        shift = 1\n",
    "        while end_positions[-1] is None:\n",
    "            end_positions[-1] = encodings.char_to_token(i, answers[i]['answer_end'] - shift)\n",
    "            shift += 1\n",
    "    # update our encodings object with the new token-based start/end positions\n",
    "    encodings.update({'start_positions': start_positions, 'end_positions': end_positions})\n"
   ]
  },
  {
   "cell_type": "code",
   "execution_count": 8,
   "metadata": {},
   "outputs": [],
   "source": [
    "# apply function to the data\n",
    "# add_token_positions(train, train_dataset['answers'])\n",
    "# add_token_positions(validation, validation_dataset['answers'])"
   ]
  },
  {
   "cell_type": "markdown",
   "metadata": {},
   "source": [
    "### This function adds two more tensors to the `Encoding` object (which will be fed into Bert)\n",
    "\n",
    "- the `start_positions` and\n",
    "- the `end_positions` tensors.\n"
   ]
  },
  {
   "cell_type": "code",
   "execution_count": 9,
   "metadata": {},
   "outputs": [],
   "source": [
    "# train.keys()"
   ]
  },
  {
   "cell_type": "code",
   "execution_count": 10,
   "metadata": {},
   "outputs": [],
   "source": [
    "# train['start_positions'][:5], train['end_positions'][:5]"
   ]
  },
  {
   "cell_type": "markdown",
   "metadata": {},
   "source": [
    "### Training\n",
    "\n",
    "For the training, Pytorch is used and the dataset will be converted to a Pytorch Dataset."
   ]
  },
  {
   "cell_type": "code",
   "execution_count": 11,
   "metadata": {},
   "outputs": [],
   "source": [
    "class SquadDataset(torch.utils.data.Dataset):\n",
    "    def __init__(self, encodings):\n",
    "        self.encodings = encodings\n",
    "\n",
    "    def __getitem__(self, idx):\n",
    "        return {key: torch.tensor(val[idx]) for key, val in self.encodings.items()}\n",
    "\n",
    "    def __len__(self):\n",
    "        return len(self.encodings.input_ids)\n",
    "\n",
    "# train_dataset = SquadDataset(train)\n",
    "# validation_dataset = SquadDataset(validation)"
   ]
  },
  {
   "cell_type": "code",
   "execution_count": 12,
   "metadata": {},
   "outputs": [],
   "source": [
    "# train_loader = DataLoader(train_dataset, batch_size=32, shuffle=True)\n",
    "# len(train_loader)"
   ]
  },
  {
   "cell_type": "code",
   "execution_count": 13,
   "metadata": {},
   "outputs": [],
   "source": [
    "# validation_loader = DataLoader(validation_dataset, batch_size=32, shuffle=False)\n",
    "# len(validation_loader)"
   ]
  },
  {
   "cell_type": "code",
   "execution_count": 14,
   "metadata": {},
   "outputs": [],
   "source": [
    "device = torch.device('cuda') if torch.cuda.is_available() else torch.device('cpu')\n",
    "model = model.to(device)\n",
    "optimizer = AdamW(model.parameters(), lr=5e-5)\n",
    "scheduler = torch.optim.lr_scheduler.ReduceLROnPlateau(\n",
    "    optimizer, \n",
    "    mode='min', \n",
    "    threshold=0.001, \n",
    "    cooldown=0, \n",
    "    eps=1e-07, \n",
    "    patience=2, \n",
    "    verbose=True, \n",
    "    min_lr=1e-5, \n",
    "    factor=0.5)"
   ]
  },
  {
   "cell_type": "code",
   "execution_count": 15,
   "metadata": {},
   "outputs": [],
   "source": [
    "def get_next_dataloader(start_index: int, end_index: int, shuffle: bool = True, dataset_key: str = 'train') -> DataLoader:\n",
    "    part_dataset = dataset[dataset_key][start_index:end_index]\n",
    "    part_dataset = prep_data(part_dataset)\n",
    "    part_train = tokenizer(part_dataset['context'], part_dataset['question'],\n",
    "                          truncation=True, padding='max_length',\n",
    "                          max_length=512, return_tensors='pt')\n",
    "    tokenizer.decode(part_train['input_ids'][0])[:855]\n",
    "    # apply function to the data\n",
    "    add_token_positions(part_train, part_dataset['answers'])\n",
    "    part_dataset = SquadDataset(part_train)\n",
    "    return DataLoader(part_dataset, batch_size=32, shuffle=shuffle)\n"
   ]
  },
  {
   "cell_type": "code",
   "execution_count": 16,
   "metadata": {},
   "outputs": [
    {
     "name": "stderr",
     "output_type": "stream",
     "text": [
      "Failed to detect the name of this notebook, you can set it manually with the WANDB_NOTEBOOK_NAME environment variable to enable code saving.\n",
      "\u001b[34m\u001b[1mwandb\u001b[0m: Currently logged in as: \u001b[33mmy-god-its-full-of-stars\u001b[0m (use `wandb login --relogin` to force relogin)\n"
     ]
    }
   ],
   "source": [
    "wandb.init(\n",
    "    project='BERT Training',\n",
    "    config={\n",
    "        'batch_size': 32,\n",
    "        'dataset': 'SQUAD 2.0'\n",
    "    })"
   ]
  },
  {
   "cell_type": "code",
   "execution_count": null,
   "metadata": {},
   "outputs": [],
   "source": [
    "def convert_all_input_ids_to_tokens(input_ids):\n",
    "    return [tokenizer.convert_ids_to_tokens(ids) for ids in input_ids]"
   ]
  },
  {
   "cell_type": "markdown",
   "metadata": {},
   "source": [
    "#### Initialize Training Preliminaries"
   ]
  },
  {
   "cell_type": "code",
   "execution_count": null,
   "metadata": {},
   "outputs": [],
   "source": [
    "max_train_batch_length: int = 2738\n",
    "max_validation_batch_length: int = 331\n",
    "\n",
    "num_episodes: int = 100\n",
    "save_zones = [epoch for epoch in range(10, 101, 25)]\n",
    "step = 5\n",
    "\n",
    "training_losses = []\n",
    "validation_losses = []"
   ]
  },
  {
   "cell_type": "code",
   "execution_count": null,
   "metadata": {},
   "outputs": [],
   "source": [
    "for epoch in trange(num_episodes):\n",
    "\n",
    "    model.train()\n",
    "    train_accuracy = 0\n",
    "    train_total = 0\n",
    "\n",
    "    f1_start = 0\n",
    "    f1_end = 0\n",
    "\n",
    "\n",
    "    for start_range in trange(0, max_train_batch_length, step):\n",
    "        end_range = min(max_train_batch_length, start_range + step)\n",
    "        loop = tqdm_notebook(get_next_dataloader(start_range, end_range), desc=f'<{start_range}:{end_range}>')\n",
    "        for batch in loop:\n",
    "            optimizer.zero_grad()\n",
    "\n",
    "            input_ids = batch['input_ids'].to(device)\n",
    "            attention_mask = batch['attention_mask'].to(device)\n",
    "            start_positions = batch['start_positions'].to(device)\n",
    "            end_positions = batch['end_positions'].to(device)\n",
    "\n",
    "            outputs = model(input_ids, attention_mask=attention_mask,\n",
    "                            start_positions=start_positions,\n",
    "                            end_positions=end_positions)\n",
    "            \n",
    " \n",
    "            start_scores = outputs.start_logits\n",
    "            end_scores = outputs.end_logits\n",
    "            answer_start = torch.argmax(start_scores, dim=1)\n",
    "            answer_end = torch.argmax(end_scores, dim=1)\n",
    "\n",
    "            train_accuracy += (start_positions == answer_start).sum().float()\n",
    "            train_accuracy += (end_positions == answer_end).sum().float()\n",
    "\n",
    "            # https://scikit-learn.org/stable/modules/generated/sklearn.metrics.f1_score.html\n",
    "            f1_start += f1_score(start_positions.cpu(), answer_start.cpu(), average='weighted', zero_division=0)\n",
    "            f1_end += f1_score(end_positions.cpu(), answer_end.cpu(), average='weighted', zero_division=0)\n",
    "\n",
    "            train_total += len(start_positions)\n",
    "        \n",
    "            loss = outputs.loss\n",
    "            loss.backward()\n",
    "            optimizer.step()\n",
    "\n",
    "            loop.set_description(f'Epoch {epoch + 1} Training <{start_range}:{end_range}>')\n",
    "            loop.set_postfix(loss=loss.item())\n",
    "\n",
    "    if epoch in save_zones:\n",
    "        torch.save(model.state_dict(), f'model/bert_model_{epoch}.pt')\n",
    "        torch.save(optimizer.state_dict(), f'model/optmizer_{epoch}.pt')\n",
    "        torch.save(scheduler.state_dict(), f'model/scheduler_{epoch}.pt')\n",
    "\n",
    "    training_losses.append(loss.item())\n",
    "    wandb.log({\n",
    "        'training loss': loss.item(),\n",
    "        'training accuracy': train_accuracy / (train_total * 2),\n",
    "        'training f1 score': (f1_start + f1_end) / (train_total * 2)\n",
    "    })\n",
    "\n",
    "    validation_accuracy = 0\n",
    "    validation_total = 0\n",
    "\n",
    "    f1_start = 0\n",
    "    f1_end = 0\n",
    "\n",
    "    for start_range in trange(0, max_validation_batch_length, step):\n",
    "        end_range = min(max_validation_batch_length, start_range + step)\n",
    "        loop = tqdm(get_next_dataloader(start_range, end_range, shuffle=False, dataset_key='validation'))\n",
    "        \n",
    "\n",
    "        with torch.no_grad():\n",
    "            model.eval()\n",
    "            for batch in loop:\n",
    "                input_ids = batch['input_ids'].to(device)\n",
    "                attention_mask = batch['attention_mask'].to(device)\n",
    "                start_positions = batch['start_positions'].to(device)\n",
    "                end_positions = batch['end_positions'].to(device)\n",
    "\n",
    "                outputs = model(input_ids, attention_mask=attention_mask,\n",
    "                                start_positions=start_positions,\n",
    "                                end_positions=end_positions)\n",
    "\n",
    "                start_scores = outputs.start_logits\n",
    "                end_scores = outputs.end_logits\n",
    "                answer_start = torch.argmax(start_scores, dim=1)\n",
    "                answer_end = torch.argmax(end_scores, dim=1)\n",
    "\n",
    "                validation_accuracy += (start_positions == answer_start).sum().float()\n",
    "                validation_accuracy += (end_positions == answer_end).sum().float()\n",
    "\n",
    "                f1_start += f1_score(start_positions.cpu(), answer_start.cpu(), average='weighted', zero_division=0)\n",
    "                f1_end += f1_score(end_positions.cpu(), answer_end.cpu(), average='weighted', zero_division=0)\n",
    "\n",
    "                validation_total += len(start_positions)\n",
    "                \n",
    "                loss = outputs.loss\n",
    "\n",
    "                loop.set_description(f'Epoch {epoch + 1} Validation <{start_range}:{end_range}>')\n",
    "                loop.set_postfix(loss=loss.item())\n",
    "\n",
    "                scheduler.step(loss)\n",
    "\n",
    "    validation_losses.append(loss.item())\n",
    "    wandb.log({\n",
    "        'validation loss': loss.item(), \n",
    "        'validation accuracy': validation_accuracy / validation_total,\n",
    "        'validation f1 score': (f1_start + f1_end) / (validation_total * 2)\n",
    "    })"
   ]
  },
  {
   "cell_type": "markdown",
   "metadata": {},
   "source": [
    "#### Save Final State of Trained Model"
   ]
  },
  {
   "cell_type": "code",
   "execution_count": null,
   "metadata": {},
   "outputs": [],
   "source": [
    "torch.save(model.state_dict(), f'model/bert_model_{epoch}.pt')\n",
    "torch.save(optimizer.state_dict(), f'model/optmizer_{epoch}.pt')\n",
    "torch.save(scheduler.state_dict(), f'model/scheduler_{epoch}.pt')"
   ]
  }
 ],
 "metadata": {
  "interpreter": {
   "hash": "91ff16da7ec79c6d4b3e7c67e89b2fb3e1986eb748f30b5e6f93d1baac9066a5"
  },
  "kernelspec": {
   "display_name": "Python 3.9.7 ('bert')",
   "language": "python",
   "name": "python3"
  },
  "language_info": {
   "codemirror_mode": {
    "name": "ipython",
    "version": 3
   },
   "file_extension": ".py",
   "mimetype": "text/x-python",
   "name": "python",
   "nbconvert_exporter": "python",
   "pygments_lexer": "ipython3",
   "version": "3.9.7"
  },
  "orig_nbformat": 4
 },
 "nbformat": 4,
 "nbformat_minor": 2
}
