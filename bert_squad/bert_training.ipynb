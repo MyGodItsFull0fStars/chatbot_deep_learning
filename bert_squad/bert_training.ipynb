{
 "cells": [
  {
   "cell_type": "markdown",
   "metadata": {},
   "source": [
    "# BERT Training\n",
    "\n",
    "This Jupyter notebook contains the training of a BERT model and the necessary steps to convert the data to be usable for the training.\n",
    "\n",
    "Author: Chrisitan Bauer"
   ]
  },
  {
   "cell_type": "markdown",
   "metadata": {},
   "source": [
    "## Sources:\n",
    "\n",
    "- https://towardsdatascience.com/how-to-train-bert-for-q-a-in-any-language-63b62c780014\n",
    "- https://huggingface.co/transformers/v3.4.0/model_doc/bert.html#bertforquestionanswering\n",
    "- https://huggingface.co/docs/datasets/metrics.html\n"
   ]
  },
  {
   "cell_type": "markdown",
   "metadata": {},
   "source": [
    "## WandB Montitor Output\n",
    "\n",
    "https://wandb.ai/my-god-its-full-of-stars/BERT%20Training?workspace=user-my-god-its-full-of-stars"
   ]
  },
  {
   "cell_type": "code",
   "execution_count": 1,
   "metadata": {},
   "outputs": [],
   "source": [
    "import torch\n",
    "import numpy as np\n",
    "from torch.utils.data import DataLoader\n",
    "from transformers import (\n",
    "    BertForQuestionAnswering, BertTokenizerFast, \n",
    "    AdamW, \n",
    "    DistilBertForQuestionAnswering, DistilBertTokenizer)\n",
    "\n",
    "# fix BERT to DistillBERT transition\n",
    "# https://fixexception.com/transformers/char-to-token-is-not-available-when-using-python-based-tokenizers/\n",
    "from transformers.tokenization_utils_base import BatchEncoding\n",
    "from tokenizers import Encoding as EncodingFast\n",
    "    \n",
    "from datasets import load_dataset, load_metric\n",
    "import wandb\n",
    "from tqdm.notebook import tqdm, trange, tqdm_notebook # show progress bar\n",
    "from sklearn.metrics import f1_score"
   ]
  },
  {
   "cell_type": "markdown",
   "metadata": {},
   "source": [
    "## Load Dataset and Split into Training and Validation Datasets"
   ]
  },
  {
   "cell_type": "code",
   "execution_count": 2,
   "metadata": {},
   "outputs": [
    {
     "name": "stderr",
     "output_type": "stream",
     "text": [
      "Reusing dataset squad (/Users/christianbauer/.cache/huggingface/datasets/squad/plain_text/1.0.0/d6ec3ceb99ca480ce37cdd35555d6cb2511d223b9150cce08a837ef62ffea453)\n",
      "100%|██████████| 2/2 [00:00<00:00, 97.58it/s]\n"
     ]
    }
   ],
   "source": [
    "dataset = load_dataset(\"squad\")\n",
    "train_dataset, validation_dataset = dataset['train'], dataset['validation']\n",
    "\n",
    "# metric = load_metric('bertscore')\n",
    "# train_dataset"
   ]
  },
  {
   "cell_type": "markdown",
   "metadata": {},
   "source": [
    "### Question-Answer Set Structure\n",
    "\n",
    "Each Set conists of the following compontens:\n",
    "\n",
    "- **Question**: string contianing the question Bert gets asked.\n",
    "- **Context**: a larger sequence containing the answer to the question.\n",
    "- **Answer**: a part of the context, that answers the question.\n",
    "\n",
    "Given the question and context, the model must be able to read both of them and return the token positions of the predicted answer within the context."
   ]
  },
  {
   "cell_type": "code",
   "execution_count": null,
   "metadata": {},
   "outputs": [],
   "source": [
    "train_dataset[0]"
   ]
  },
  {
   "cell_type": "code",
   "execution_count": null,
   "metadata": {},
   "outputs": [],
   "source": [
    "# answer_start = train_dataset[0]['answers']['answer_start'][0]\n",
    "# answer_start"
   ]
  },
  {
   "cell_type": "code",
   "execution_count": null,
   "metadata": {},
   "outputs": [],
   "source": [
    "# answer_length = len(train_dataset[0]['answers']['text'][0])\n",
    "# answer_length"
   ]
  },
  {
   "cell_type": "code",
   "execution_count": null,
   "metadata": {},
   "outputs": [],
   "source": [
    "# train_dataset[0]['context'][answer_start:answer_start+answer_length]"
   ]
  },
  {
   "cell_type": "markdown",
   "metadata": {},
   "source": [
    "## Formatting QA-Sets\n",
    "\n",
    "Before the training can start, the answer section of the sets needs to be reformatted.\n",
    "The key `answer_end` gets added to the dictionary and for easier accessing, the lists containing only one element get removed by the element itself."
   ]
  },
  {
   "cell_type": "code",
   "execution_count": 3,
   "metadata": {},
   "outputs": [],
   "source": [
    "def add_end_idx(answers, contexts):\n",
    "    new_answers = []\n",
    "    # loop through each answer-context pair\n",
    "    for answer, context in tqdm(zip(answers, contexts)):\n",
    "        # quick reformating to remove lists\n",
    "        answer['text'] = answer['text'][0]\n",
    "        answer['answer_start'] = answer['answer_start'][0]\n",
    "        # gold_text refers to the answer we are expecting to find in context\n",
    "        gold_text = answer['text']\n",
    "        # we already know the start index\n",
    "        start_idx = answer['answer_start']\n",
    "        # and ideally this would be the end index...\n",
    "        end_idx = start_idx + len(gold_text)\n",
    "\n",
    "        # ...however, sometimes squad answers are off by a character or two\n",
    "        if context[start_idx:end_idx] == gold_text:\n",
    "            # if the answer is not off :)\n",
    "            answer['answer_end'] = end_idx\n",
    "        else:\n",
    "            # this means the answer is off by 1-2 tokens\n",
    "            for n in [1, 2]:\n",
    "                if context[start_idx-n:end_idx-n] == gold_text:\n",
    "                    answer['answer_start'] = start_idx - n\n",
    "                    answer['answer_end'] = end_idx - n\n",
    "        new_answers.append(answer)\n",
    "    return new_answers\n",
    "\n",
    "def prep_data(dataset):\n",
    "    questions = dataset['question']\n",
    "    contexts = dataset['context']\n",
    "    answers = add_end_idx(\n",
    "        dataset['answers'],\n",
    "        contexts\n",
    "    )\n",
    "    return {\n",
    "        'question': questions,\n",
    "        'context': contexts,\n",
    "        'answers': answers\n",
    "    }"
   ]
  },
  {
   "cell_type": "markdown",
   "metadata": {},
   "source": [
    "## Initialize Model, Tokenizer and Optimizer"
   ]
  },
  {
   "cell_type": "code",
   "execution_count": 4,
   "metadata": {},
   "outputs": [
    {
     "data": {
      "application/vnd.jupyter.widget-view+json": {
       "model_id": "295d65d29eee42d59ccd1b0ff7a00389",
       "version_major": 2,
       "version_minor": 0
      },
      "text/plain": [
       "0it [00:00, ?it/s]"
      ]
     },
     "metadata": {},
     "output_type": "display_data"
    },
    {
     "data": {
      "application/vnd.jupyter.widget-view+json": {
       "model_id": "9f58fb381a82481e84850d7ce64d4baa",
       "version_major": 2,
       "version_minor": 0
      },
      "text/plain": [
       "0it [00:00, ?it/s]"
      ]
     },
     "metadata": {},
     "output_type": "display_data"
    },
    {
     "data": {
      "text/plain": [
       "[{'text': 'Saint Bernadette Soubirous',\n",
       "  'answer_start': 515,\n",
       "  'answer_end': 541},\n",
       " {'text': 'a copper statue of Christ', 'answer_start': 188, 'answer_end': 213},\n",
       " {'text': 'the Main Building', 'answer_start': 279, 'answer_end': 296}]"
      ]
     },
     "execution_count": 4,
     "metadata": {},
     "output_type": "execute_result"
    }
   ],
   "source": [
    "train_dataset = prep_data(train_dataset)\n",
    "validation_dataset = prep_data(validation_dataset)\n",
    "train_dataset['answers'][:3]"
   ]
  },
  {
   "cell_type": "markdown",
   "metadata": {},
   "source": [
    "### Tokenization\n",
    "\n",
    "For Bert to be able to read the SQUAD dataset, tokenization is required.\n",
    "For `context` and `question` the standard `tokenizer()` method can be used.\n",
    "\n",
    "This method encodes both `context` and `question` strings into single arrays of tokens.\n",
    "This will act as the input for the QA training."
   ]
  },
  {
   "cell_type": "code",
   "execution_count": 6,
   "metadata": {},
   "outputs": [
    {
     "name": "stderr",
     "output_type": "stream",
     "text": [
      "Downloading: 100%|██████████| 570/570 [00:00<00:00, 149kB/s]\n",
      "Downloading: 100%|██████████| 420M/420M [00:11<00:00, 37.2MB/s] \n",
      "Some weights of the model checkpoint at bert-base-uncased were not used when initializing BertForQuestionAnswering: ['cls.seq_relationship.weight', 'cls.predictions.transform.LayerNorm.bias', 'cls.predictions.transform.dense.weight', 'cls.seq_relationship.bias', 'cls.predictions.decoder.weight', 'cls.predictions.transform.dense.bias', 'cls.predictions.transform.LayerNorm.weight', 'cls.predictions.bias']\n",
      "- This IS expected if you are initializing BertForQuestionAnswering from the checkpoint of a model trained on another task or with another architecture (e.g. initializing a BertForSequenceClassification model from a BertForPreTraining model).\n",
      "- This IS NOT expected if you are initializing BertForQuestionAnswering from the checkpoint of a model that you expect to be exactly identical (initializing a BertForSequenceClassification model from a BertForSequenceClassification model).\n",
      "Some weights of BertForQuestionAnswering were not initialized from the model checkpoint at bert-base-uncased and are newly initialized: ['qa_outputs.weight', 'qa_outputs.bias']\n",
      "You should probably TRAIN this model on a down-stream task to be able to use it for predictions and inference.\n",
      "Downloading: 100%|██████████| 28.0/28.0 [00:00<00:00, 8.37kB/s]\n",
      "Downloading: 100%|██████████| 226k/226k [00:00<00:00, 611kB/s] \n",
      "Downloading: 100%|██████████| 455k/455k [00:00<00:00, 723kB/s]  \n"
     ]
    }
   ],
   "source": [
    "pretrained_model_name: str = 'bert-large-uncased-whole-word-masking-finetuned-squad'\n",
    "model = BertForQuestionAnswering.from_pretrained('bert-base-uncased')\n",
    "# model = DistilBertForQuestionAnswering.from_pretrained('distilbert-base-cased-distilled-squad')\n",
    "tokenizer = BertTokenizerFast.from_pretrained('bert-base-uncased')\n",
    "# tokenizer = DistilBertTokenizer.from_pretrained('distilbert-base-cased-distilled-squad')\n",
    "\n",
    "train = tokenizer(train_dataset['context'], train_dataset['question'],\n",
    "                          truncation=True, padding='max_length',\n",
    "                          max_length=512, return_tensors='pt')\n",
    "\n",
    "validation = tokenizer(validation_dataset['context'], validation_dataset['question'],\n",
    "                          truncation=True, padding='max_length',\n",
    "                          max_length=512, return_tensors='pt')\n",
    "            "
   ]
  },
  {
   "cell_type": "code",
   "execution_count": 7,
   "metadata": {},
   "outputs": [
    {
     "data": {
      "text/plain": [
       "'[CLS] architecturally, the school has a catholic character. atop the main building\\'s gold dome is a golden statue of the virgin mary. immediately in front of the main building and facing it, is a copper statue of christ with arms upraised with the legend \" venite ad me omnes \". next to the main building is the basilica of the sacred heart. immediately behind the basilica is the grotto, a marian place of prayer and reflection. it is a replica of the grotto at lourdes, france where the virgin mary reputedly appeared to saint bernadette soubirous in 1858. at the end of the main drive ( and in a direct line that connects through 3 statues and the gold dome ), is a simple, modern stone statue of mary. [SEP] to whom did the virgin mary allegedly appear in 1858 in lourdes france? [SEP] [PAD] [PAD] [PAD] [PAD] [PAD] [PAD] [PAD] [PAD] [PAD] [PAD] [PAD]'"
      ]
     },
     "execution_count": 7,
     "metadata": {},
     "output_type": "execute_result"
    }
   ],
   "source": [
    "tokenizer.decode(train['input_ids'][0])[:855]\n",
    "# tokenizer.decode(validation['input_ids'][0])[:855]\n"
   ]
  },
  {
   "cell_type": "code",
   "execution_count": 13,
   "metadata": {},
   "outputs": [
    {
     "data": {
      "text/plain": [
       "{'input_ids': [101, 3274, 4432, 2470, 2038, 2081, 1037, 5016, 11679, 2144, 4074, 7159, 102], 'token_type_ids': [0, 0, 0, 0, 0, 0, 0, 0, 0, 0, 0, 0, 0], 'attention_mask': [1, 1, 1, 1, 1, 1, 1, 1, 1, 1, 1, 1, 1]}"
      ]
     },
     "execution_count": 13,
     "metadata": {},
     "output_type": "execute_result"
    }
   ],
   "source": [
    "token = tokenizer('Computer Vision research has made a giant leap since AlexNet')\n",
    "token"
   ]
  },
  {
   "cell_type": "code",
   "execution_count": 14,
   "metadata": {},
   "outputs": [
    {
     "data": {
      "text/plain": [
       "'[CLS] computer vision research has made a giant leap since alexnet [SEP]'"
      ]
     },
     "execution_count": 14,
     "metadata": {},
     "output_type": "execute_result"
    }
   ],
   "source": [
    "tokenizer.decode(token['input_ids'])"
   ]
  },
  {
   "cell_type": "markdown",
   "metadata": {},
   "source": [
    "### Tokenization Part 2\n",
    "\n",
    "Since tokens get fed into Bert, the start and end positions of the tokens need to be provided.\n",
    "\n",
    "This is done by the method `add_token_positions()`."
   ]
  },
  {
   "cell_type": "code",
   "execution_count": null,
   "metadata": {},
   "outputs": [],
   "source": [
    "def add_token_positions(encodings, answers):\n",
    "    # initialize lists to contain the token indices of answer start/end\n",
    "    start_positions = []\n",
    "    end_positions = []\n",
    "    # for i in tqdm(range(len(answers))):\n",
    "    for i in range(len(answers)):\n",
    "        # append start/end token position using char_to_token method\n",
    "        start_positions.append(encodings.char_to_token(i, answers[i]['answer_start']))\n",
    "        end_positions.append(encodings.char_to_token(i, answers[i]['answer_end']))\n",
    "\n",
    "        # if start position is None, the answer passage has been truncated\n",
    "        if start_positions[-1] is None:\n",
    "            start_positions[-1] = tokenizer.model_max_length\n",
    "        # end position cannot be found, char_to_token found space, so shift position until found\n",
    "        shift = 1\n",
    "        while end_positions[-1] is None:\n",
    "            # encodings = BatchEncoding(answers[i]['answers_end'] -shift, encoding=EncodingFast())\n",
    "            end_positions[-1] = encodings.char_to_token(i, answers[i]['answer_end'] - shift)\n",
    "            shift += 1\n",
    "    # update our encodings object with the new token-based start/end positions\n",
    "    encodings.update({'start_positions': start_positions, 'end_positions': end_positions})\n"
   ]
  },
  {
   "cell_type": "code",
   "execution_count": null,
   "metadata": {},
   "outputs": [],
   "source": [
    "# apply function to the data\n",
    "# add_token_positions(train, train_dataset['answers'])\n",
    "# add_token_positions(validation, validation_dataset['answers'])"
   ]
  },
  {
   "cell_type": "markdown",
   "metadata": {},
   "source": [
    "### This function adds two more tensors to the `Encoding` object (which will be fed into Bert)\n",
    "\n",
    "- the `start_positions` and\n",
    "- the `end_positions` tensors.\n"
   ]
  },
  {
   "cell_type": "code",
   "execution_count": null,
   "metadata": {},
   "outputs": [],
   "source": [
    "# train.keys()"
   ]
  },
  {
   "cell_type": "code",
   "execution_count": null,
   "metadata": {},
   "outputs": [],
   "source": [
    "# train['start_positions'][:5], train['end_positions'][:5]"
   ]
  },
  {
   "cell_type": "markdown",
   "metadata": {},
   "source": [
    "### Training\n",
    "\n",
    "For the training, Pytorch is used and the dataset will be converted to a Pytorch Dataset."
   ]
  },
  {
   "cell_type": "code",
   "execution_count": null,
   "metadata": {},
   "outputs": [],
   "source": [
    "class SquadDataset(torch.utils.data.Dataset):\n",
    "    def __init__(self, encodings):\n",
    "        self.encodings = encodings\n",
    "\n",
    "    def __getitem__(self, idx):\n",
    "        return {key: torch.tensor(val[idx]) for key, val in self.encodings.items()}\n",
    "\n",
    "    def __len__(self):\n",
    "        return len(self.encodings.input_ids)\n",
    "\n",
    "# train_dataset = SquadDataset(train)\n",
    "# validation_dataset = SquadDataset(validation)"
   ]
  },
  {
   "cell_type": "code",
   "execution_count": null,
   "metadata": {},
   "outputs": [],
   "source": [
    "# train_loader = DataLoader(train_dataset, batch_size=32, shuffle=True)\n",
    "# len(train_loader)"
   ]
  },
  {
   "cell_type": "code",
   "execution_count": null,
   "metadata": {},
   "outputs": [],
   "source": [
    "# validation_loader = DataLoader(validation_dataset, batch_size=32, shuffle=False)\n",
    "# len(validation_loader)"
   ]
  },
  {
   "cell_type": "code",
   "execution_count": null,
   "metadata": {},
   "outputs": [],
   "source": [
    "device = torch.device('cuda') if torch.cuda.is_available() else torch.device('cpu')\n",
    "model = model.to(device)\n",
    "optimizer = AdamW(model.parameters(), lr=5e-5)\n",
    "scheduler = torch.optim.lr_scheduler.ReduceLROnPlateau(\n",
    "    optimizer, \n",
    "    mode='min', \n",
    "    threshold=0.001, \n",
    "    cooldown=0, \n",
    "    eps=1e-07, \n",
    "    patience=2, \n",
    "    verbose=True, \n",
    "    min_lr=1e-5, \n",
    "    factor=0.5)"
   ]
  },
  {
   "cell_type": "markdown",
   "metadata": {},
   "source": [
    "### Helper Function for partially loading the dataset\n",
    "\n",
    "This is required because otherwise an error occurs because to much RAM is allocated."
   ]
  },
  {
   "cell_type": "code",
   "execution_count": null,
   "metadata": {},
   "outputs": [],
   "source": [
    "def get_next_dataloader(start_index: int, end_index: int, shuffle: bool = True, dataset_key: str = 'train') -> DataLoader:\n",
    "    part_dataset = dataset[dataset_key][start_index:end_index]\n",
    "    part_dataset = prep_data(part_dataset)\n",
    "    part_train = tokenizer(part_dataset['context'], part_dataset['question'],\n",
    "                          truncation=True, padding='max_length',\n",
    "                          max_length=512, return_tensors='pt')\n",
    "    tokenizer.decode(part_train['input_ids'][0])[:855]\n",
    "    # apply function to the data\n",
    "    add_token_positions(part_train, part_dataset['answers'])\n",
    "    part_dataset = SquadDataset(part_train)\n",
    "    return DataLoader(part_dataset, batch_size=32, shuffle=shuffle)\n"
   ]
  },
  {
   "cell_type": "markdown",
   "metadata": {},
   "source": [
    "### Initializing WANDB for Monitoring"
   ]
  },
  {
   "cell_type": "code",
   "execution_count": null,
   "metadata": {},
   "outputs": [],
   "source": [
    "wandb.init(\n",
    "    project='BERT Training',\n",
    "    config={\n",
    "        'batch_size': 32,\n",
    "        'dataset': 'SQUAD 2.0'\n",
    "    })"
   ]
  },
  {
   "cell_type": "code",
   "execution_count": null,
   "metadata": {},
   "outputs": [],
   "source": [
    "def convert_all_input_ids_to_tokens(input_ids):\n",
    "    return [tokenizer.convert_ids_to_tokens(ids) for ids in input_ids]"
   ]
  },
  {
   "cell_type": "markdown",
   "metadata": {},
   "source": [
    "#### Initialize Training Preliminaries"
   ]
  },
  {
   "cell_type": "code",
   "execution_count": null,
   "metadata": {},
   "outputs": [],
   "source": [
    "max_train_batch_length: int = 2738\n",
    "max_validation_batch_length: int = 331\n",
    "\n",
    "num_episodes: int = 100\n",
    "save_zones = [epoch for epoch in range(10, 101, 25)]\n",
    "step = 5\n",
    "\n",
    "training_losses = []\n",
    "validation_losses = []"
   ]
  },
  {
   "cell_type": "code",
   "execution_count": null,
   "metadata": {},
   "outputs": [],
   "source": [
    "\n",
    "def train_model(start_epoch: int, end_epoch: int, model, optimizer, scheduler):\n",
    "    \n",
    "    # for epoch in trange(start_epoch, end_epoch):\n",
    "    for epoch in range(start_epoch, end_epoch):\n",
    "        print(f'Epoch: {epoch}')\n",
    "\n",
    "        model.train()\n",
    "        train_accuracy = 0\n",
    "        train_total = 0\n",
    "\n",
    "        f1_start = 0\n",
    "        f1_end = 0\n",
    "\n",
    "    # roberta-small\n",
    "        # for start_range in trange(0, max_train_batch_length, step):\n",
    "        for start_range in range(0, max_train_batch_length, step):\n",
    "            end_range = min(max_train_batch_length, start_range + step)\n",
    "\n",
    "            # loop = tqdm_notebook(get_next_dataloader(start_range, end_range), desc=f'<{start_range}:{end_range}>')\n",
    "            # loop.set_description(f'Epoch {epoch + 1} Training <{start_range}:{end_range}>')\n",
    "            loop = get_next_dataloader(start_range, end_range)\n",
    "\n",
    "            for batch in loop:\n",
    "                optimizer.zero_grad()\n",
    "\n",
    "                input_ids = batch['input_ids'].to(device)\n",
    "                attention_mask = batch['attention_mask'].to(device)\n",
    "                start_positions = batch['start_positions'].to(device)\n",
    "                end_positions = batch['end_positions'].to(device)\n",
    "\n",
    "                outputs = model(input_ids, attention_mask=attention_mask,\n",
    "                                start_positions=start_positions,\n",
    "                                end_positions=end_positions)\n",
    "                \n",
    "    \n",
    "                start_scores = outputs.start_logits\n",
    "                end_scores = outputs.end_logits\n",
    "                answer_start = torch.argmax(start_scores, dim=1)\n",
    "                answer_end = torch.argmax(end_scores, dim=1)\n",
    "\n",
    "                train_accuracy += (start_positions == answer_start).sum().float()\n",
    "                train_accuracy += (end_positions == answer_end).sum().float()\n",
    "\n",
    "                # https://scikit-learn.org/stable/modules/generated/sklearn.metrics.f1_score.html\n",
    "                f1_start += f1_score(start_positions.cpu(), answer_start.cpu(), average='weighted', zero_division=0)\n",
    "                f1_end += f1_score(end_positions.cpu(), answer_end.cpu(), average='weighted', zero_division=0)\n",
    "\n",
    "\n",
    "                train_total += len(start_positions)\n",
    "            \n",
    "                loss = outputs.loss\n",
    "                loss.backward()\n",
    "                optimizer.step()\n",
    "\n",
    "                # loop.set_postfix(loss=loss.item())\n",
    "\n",
    "\n",
    "        training_losses.append(loss.item())\n",
    "        wandb.log({\n",
    "            'training loss': loss.item(),\n",
    "            'training accuracy': train_accuracy / (train_total * 2),\n",
    "            'training f1 score average': (f1_start + f1_end) / (train_total * 2),\n",
    "            'training f1 score start position': f1_start / train_total,\n",
    "            'training f1 score end position': f1_end / train_total\n",
    "        })\n",
    "        \n",
    "\n",
    "        validation_accuracy = 0\n",
    "        validation_total = 0\n",
    "\n",
    "        f1_start = 0\n",
    "        f1_end = 0\n",
    "\n",
    "        # for start_range in trange(0, max_validation_batch_length, step):\n",
    "        for start_range in range(0, max_validation_batch_length, step):\n",
    "            end_range = min(max_validation_batch_length, start_range + step)\n",
    "            # loop = tqdm(get_next_dataloader(start_range, end_range, shuffle=False, dataset_key='validation'))\n",
    "            loop = get_next_dataloader(start_range, end_range, shuffle=False, dataset_key='validation')\n",
    "            # loop.set_description(f'Epoch {epoch + 1} Validation <{start_range}:{end_range}>')\n",
    "            \n",
    "\n",
    "            with torch.no_grad():\n",
    "                model.eval()\n",
    "                for batch in loop:\n",
    "                    input_ids = batch['input_ids'].to(device)\n",
    "                    attention_mask = batch['attention_mask'].to(device)\n",
    "                    start_positions = batch['start_positions'].to(device)\n",
    "                    end_positions = batch['end_positions'].to(device)\n",
    "\n",
    "                    outputs = model(input_ids, attention_mask=attention_mask,\n",
    "                                    start_positions=start_positions,\n",
    "                                    end_positions=end_positions)\n",
    "\n",
    "                    start_scores = outputs.start_logits\n",
    "                    end_scores = outputs.end_logits\n",
    "                    answer_start = torch.argmax(start_scores, dim=1)\n",
    "                    answer_end = torch.argmax(end_scores, dim=1)\n",
    "\n",
    "                    validation_accuracy += (start_positions == answer_start).sum().float()\n",
    "                    validation_accuracy += (end_positions == answer_end).sum().float()\n",
    "\n",
    "       \n",
    "                    f1_start += f1_score(start_positions.cpu(), answer_start.cpu(), average='weighted', zero_division=0)\n",
    "                    f1_end += f1_score(end_positions.cpu(), answer_end.cpu(), average='weighted', zero_division=0)\n",
    "\n",
    "                    validation_total += len(start_positions)\n",
    "                    \n",
    "                    loss = outputs.loss\n",
    "\n",
    "                    # loop.set_postfix(loss=loss.item())\n",
    "\n",
    "                    scheduler.step(loss)\n",
    "\n",
    "        validation_losses.append(loss.item())\n",
    "        wandb.log({\n",
    "            'validation loss': loss.item(), \n",
    "            'validation accuracy': validation_accuracy / (validation_total * 2),\n",
    "            'training f1 score average': (f1_start + f1_end) / (train_total * 2),\n",
    "            'training f1 score start position': f1_start / train_total,\n",
    "            'training f1 score end position': f1_end / train_total\n",
    "        })\n",
    "\n",
    "    torch.save(model.state_dict(), f'models/bert_model_{epoch}.pt')\n",
    "    torch.save(optimizer.state_dict(), f'models/optimizer_{epoch}.pt')\n",
    "    torch.save(scheduler.state_dict(), f'models/scheduler_{epoch}.pt')\n"
   ]
  },
  {
   "cell_type": "code",
   "execution_count": null,
   "metadata": {},
   "outputs": [],
   "source": [
    "# def train_model(start_epoch: int, end_epoch: int):\n",
    "#     global model, optimizer, scheduler\n",
    "    \n",
    "#     # for epoch in trange(start_epoch, end_epoch):\n",
    "#     for epoch in range(start_epoch, end_epoch):\n",
    "#         print(f'Epoch: {epoch}')\n",
    "\n",
    "#         model.train()\n",
    "#         train_accuracy = 0\n",
    "#         train_total = 0\n",
    "\n",
    "#         f1_start = 0\n",
    "#         f1_end = 0\n",
    "\n",
    "#     # roberta-small\n",
    "#         # for start_range in trange(0, max_train_batch_length, step):\n",
    "#         for start_range in range(0, max_train_batch_length, step):\n",
    "#             end_range = min(max_train_batch_length, start_range + step)\n",
    "\n",
    "#             # loop = tqdm_notebook(get_next_dataloader(start_range, end_range), desc=f'<{start_range}:{end_range}>')\n",
    "#             # loop.set_description(f'Epoch {epoch + 1} Training <{start_range}:{end_range}>')\n",
    "#             loop = get_next_dataloader(start_range, end_range)\n",
    "\n",
    "#             for batch in loop:\n",
    "#                 optimizer.zero_grad()\n",
    "\n",
    "#                 input_ids = batch['input_ids'].to(device)\n",
    "#                 attention_mask = batch['attention_mask'].to(device)\n",
    "#                 start_positions = batch['start_positions'].to(device)\n",
    "#                 end_positions = batch['end_positions'].to(device)\n",
    "\n",
    "#                 outputs = model(input_ids, attention_mask=attention_mask,\n",
    "#                                 start_positions=start_positions,\n",
    "#                                 end_positions=end_positions)\n",
    "                \n",
    "    \n",
    "#                 start_scores = outputs.start_logits\n",
    "#                 end_scores = outputs.end_logits\n",
    "#                 answer_start = torch.argmax(start_scores, dim=1)\n",
    "#                 answer_end = torch.argmax(end_scores, dim=1)\n",
    "\n",
    "#                 train_accuracy += (start_positions == answer_start).sum().float()\n",
    "#                 train_accuracy += (end_positions == answer_end).sum().float()\n",
    "\n",
    "#                 # https://scikit-learn.org/stable/modules/generated/sklearn.metrics.f1_score.html\n",
    "#                 f1_start += f1_score(start_positions.cpu(), answer_start.cpu(), average='weighted', zero_division=0)\n",
    "#                 f1_end += f1_score(end_positions.cpu(), answer_end.cpu(), average='weighted', zero_division=0)\n",
    "\n",
    "#                 train_total += len(start_positions)\n",
    "            \n",
    "#                 loss = outputs.loss\n",
    "#                 loss.backward()\n",
    "#                 optimizer.step()\n",
    "\n",
    "#                 # loop.set_postfix(loss=loss.item())\n",
    "\n",
    "#         # if epoch in save_zones:\n",
    "#         #     torch.save(model.state_dict(), f'model/bert_model_{epoch}.pt')\n",
    "#         #     torch.save(optimizer.state_dict(), f'model/optmizer_{epoch}.pt')\n",
    "#         #     torch.save(scheduler.state_dict(), f'model/scheduler_{epoch}.pt')\n",
    "\n",
    "#         training_losses.append(loss.item())\n",
    "#         wandb.log({\n",
    "#             'training loss': loss.item(),\n",
    "#             'training accuracy': train_accuracy / (train_total * 2),\n",
    "#             'training f1 score': (f1_start + f1_end) / (train_total * 2)\n",
    "#         })\n",
    "\n",
    "#         validation_accuracy = 0\n",
    "#         validation_total = 0\n",
    "\n",
    "#         f1_start = 0\n",
    "#         f1_end = 0\n",
    "\n",
    "#         # for start_range in trange(0, max_validation_batch_length, step):\n",
    "#         for start_range in range(0, max_validation_batch_length, step):\n",
    "#             end_range = min(max_validation_batch_length, start_range + step)\n",
    "#             # loop = tqdm(get_next_dataloader(start_range, end_range, shuffle=False, dataset_key='validation'))\n",
    "#             loop = get_next_dataloader(start_range, end_range, shuffle=False, dataset_key='validation')\n",
    "#             # loop.set_description(f'Epoch {epoch + 1} Validation <{start_range}:{end_range}>')\n",
    "            \n",
    "\n",
    "#             with torch.no_grad():\n",
    "#                 model.eval()\n",
    "#                 for batch in loop:\n",
    "#                     input_ids = batch['input_ids'].to(device)\n",
    "#                     attention_mask = batch['attention_mask'].to(device)\n",
    "#                     start_positions = batch['start_positions'].to(device)\n",
    "#                     end_positions = batch['end_positions'].to(device)\n",
    "\n",
    "#                     outputs = model(input_ids, attention_mask=attention_mask,\n",
    "#                                     start_positions=start_positions,\n",
    "#                                     end_positions=end_positions)\n",
    "\n",
    "#                     start_scores = outputs.start_logits\n",
    "#                     end_scores = outputs.end_logits\n",
    "#                     answer_start = torch.argmax(start_scores, dim=1)\n",
    "#                     answer_end = torch.argmax(end_scores, dim=1)\n",
    "\n",
    "#                     validation_accuracy += (start_positions == answer_start).sum().float()\n",
    "#                     validation_accuracy += (end_positions == answer_end).sum().float()\n",
    "\n",
    "#                     f1_start += f1_score(start_positions.cpu(), answer_start.cpu(), average='weighted', zero_division=0)\n",
    "#                     f1_end += f1_score(end_positions.cpu(), answer_end.cpu(), average='weighted', zero_division=0)\n",
    "\n",
    "#                     validation_total += len(start_positions)\n",
    "                    \n",
    "#                     loss = outputs.loss\n",
    "\n",
    "#                     # loop.set_postfix(loss=loss.item())\n",
    "\n",
    "#                     scheduler.step(loss)\n",
    "\n",
    "#         validation_losses.append(loss.item())\n",
    "#         wandb.log({\n",
    "#             'validation loss': loss.item(), \n",
    "#             'validation accuracy': validation_accuracy / (validation_total * 2),\n",
    "#             'validation f1 score': (f1_start + f1_end) / (validation_total * 2)\n",
    "#         })\n",
    "\n",
    "#     torch.save(model.state_dict(), f'models/bert_model_{epoch}.pt')\n",
    "#     torch.save(optimizer.state_dict(), f'models/optimizer_{epoch}.pt')\n",
    "#     torch.save(scheduler.state_dict(), f'models/scheduler_{epoch}.pt')\n"
   ]
  },
  {
   "cell_type": "code",
   "execution_count": null,
   "metadata": {},
   "outputs": [],
   "source": [
    "def clean_memory():\n",
    "    del model\n",
    "    del optimizer\n",
    "    del scheduler\n",
    "\n",
    "def init_model(epoch: int = 0):\n",
    "    model = BertForQuestionAnswering.from_pretrained('bert-base-uncased')\n",
    "\n",
    "    model.to(device)\n",
    "    optimizer = AdamW(model.parameters(), lr=5e-5)\n",
    "    scheduler = torch.optim.lr_scheduler.ReduceLROnPlateau(\n",
    "        optimizer, \n",
    "        mode='min', \n",
    "        threshold=0.001, \n",
    "        cooldown=0, \n",
    "        eps=1e-07, \n",
    "        patience=2, \n",
    "        verbose=True, \n",
    "        min_lr=1e-5, \n",
    "        factor=0.5)\n",
    "\n",
    "    if epoch != -1:\n",
    "        model_dict = torch.load(f'models/bert_model_{epoch}.pt')\n",
    "        model.load_state_dict(model_dict)\n",
    "        optimizer_dict = torch.load(f'models/optimizer_{epoch}.pt')\n",
    "        optimizer.load_state_dict(optimizer_dict)\n",
    "        scheduler_dict = torch.load(f'models/scheduler_{epoch}.pt')\n",
    "        scheduler.load_state_dict(scheduler_dict)\n",
    "\n",
    "    return model, optimizer, scheduler\n"
   ]
  },
  {
   "cell_type": "code",
   "execution_count": null,
   "metadata": {},
   "outputs": [],
   "source": [
    "        \n",
    "def get_last_saved_epoch(path: str = 'models/') -> int:\n",
    "    from os import walk\n",
    "    files = []\n",
    "    for (_, _, filenames) in walk(path):\n",
    "        filenames = [file for file in filenames if file.endswith('.pt')]\n",
    "        files.extend(filenames)\n",
    "\n",
    "    epoch_list = [int(file.split('.')[0].split('_').pop()) for file in files]\n",
    "\n",
    "    return max(epoch_list) if len(epoch_list) > 0 else -1\n"
   ]
  },
  {
   "cell_type": "code",
   "execution_count": null,
   "metadata": {},
   "outputs": [],
   "source": [
    "saved_epoch = get_last_saved_epoch()\n",
    "step: int = 1\n",
    "for start_index in range(saved_epoch, saved_epoch + 10, step):\n",
    "    model, optimizer, scheduler = init_model(saved_epoch)\n",
    "    start_index += 1\n",
    "    train_model(start_index, start_index + step, model, optimizer, scheduler)\n",
    "    del model\n",
    "    del optimizer\n",
    "    del scheduler\n"
   ]
  }
 ],
 "metadata": {
  "interpreter": {
   "hash": "91ff16da7ec79c6d4b3e7c67e89b2fb3e1986eb748f30b5e6f93d1baac9066a5"
  },
  "kernelspec": {
   "display_name": "Python 3.9.7 ('bert')",
   "language": "python",
   "name": "python3"
  },
  "language_info": {
   "codemirror_mode": {
    "name": "ipython",
    "version": 3
   },
   "file_extension": ".py",
   "mimetype": "text/x-python",
   "name": "python",
   "nbconvert_exporter": "python",
   "pygments_lexer": "ipython3",
   "version": "3.9.7"
  },
  "orig_nbformat": 4
 },
 "nbformat": 4,
 "nbformat_minor": 2
}
