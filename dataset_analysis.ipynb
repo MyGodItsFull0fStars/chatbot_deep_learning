{
 "cells": [
  {
   "cell_type": "code",
   "execution_count": 1,
   "metadata": {},
   "outputs": [
    {
     "name": "stdout",
     "output_type": "stream",
     "text": [
      "3991\n"
     ]
    }
   ],
   "source": [
    "import json\n",
    "from squad import *\n",
    "import utils\n",
    "\n",
    "all_words_dict = utils.get_all_words_dict()\n",
    "word_counter = [0 for _ in all_words_dict.keys()]\n",
    "\n",
    "key_index_dict = {idx: key for idx, key in enumerate(all_words_dict.keys())}\n",
    "\n",
    "print(len(all_words_dict))\n"
   ]
  },
  {
   "cell_type": "code",
   "execution_count": 3,
   "metadata": {},
   "outputs": [
    {
     "name": "stdout",
     "output_type": "stream",
     "text": [
      "done\n"
     ]
    }
   ],
   "source": [
    "SQUAD_FILE_PATH: str = 'squad_dataset.json'\n",
    "\n",
    "def get_word_indices(sentence: str) -> List[str]:\n",
    "    question = utils.tokenize(sentence)\n",
    "    question = [utils.stemming(word) for word in question]\n",
    "    word_indices = [all_words_dict.get(word) for word in question if all_words_dict.get(word) is not None]\n",
    "    return word_indices\n",
    "\n",
    "squad = Squad(SQUAD_FILE_PATH)\n",
    "squad_transform = Squad_Transform(squad)\n",
    "\n",
    "for qas_key, qas_list in squad_transform.title_question_answer_dict.items():\n",
    "    for element in qas_list:\n",
    "        word_indices = get_word_indices(f'{element.question} {element.answer} {qas_key}')\n",
    "        \n",
    "\n",
    "        for index in word_indices:\n",
    "            word_counter[index] += 1\n",
    "        \n",
    "    \n",
    "print('done')"
   ]
  }
 ],
 "metadata": {
  "interpreter": {
   "hash": "64e23d880b805501f5bfe4166e542d691e15199071dc059f19bfc7b17de3b1db"
  },
  "kernelspec": {
   "display_name": "Python 3.9.4 64-bit ('chat_bot_env': conda)",
   "name": "python3"
  },
  "language_info": {
   "codemirror_mode": {
    "name": "ipython",
    "version": 3
   },
   "file_extension": ".py",
   "mimetype": "text/x-python",
   "name": "python",
   "nbconvert_exporter": "python",
   "pygments_lexer": "ipython3",
   "version": "3.9.4"
  },
  "orig_nbformat": 4
 },
 "nbformat": 4,
 "nbformat_minor": 2
}
