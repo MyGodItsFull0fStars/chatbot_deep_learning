{
 "cells": [
  {
   "cell_type": "code",
   "execution_count": 1,
   "metadata": {},
   "outputs": [],
   "source": [
    "import json\n",
    "from squad import *\n",
    "import utils\n",
    "\n",
    "all_words_dict = utils.get_all_words_dict()\n",
    "word_counter = [0 for _ in all_words_dict.keys()]\n",
    "\n",
    "key_index_dict = {idx: key for idx, key in enumerate(all_words_dict.keys())}"
   ]
  },
  {
   "cell_type": "markdown",
   "metadata": {},
   "source": [
    "# Helper Functions\n",
    "\n",
    "- `get_word_indices` returns the index position in `all_words_dict` of each word in a sentence\n",
    "- `get_occurrence_dict` returns a dictionary with words as keys and the number of occurrences as value"
   ]
  },
  {
   "cell_type": "code",
   "execution_count": 2,
   "metadata": {},
   "outputs": [],
   "source": [
    "def get_word_indices(sentence: str) -> List[str]:\n",
    "    question = utils.tokenize(sentence)\n",
    "    question = [utils.stemming(word) for word in question]\n",
    "    word_indices = [all_words_dict.get(word) for word in question if all_words_dict.get(word) is not None]\n",
    "    return word_indices\n",
    "\n",
    "\n",
    "def get_occurrence_dict() -> Dict[str, int]:\n",
    "    occurrence_dict: Dict[str, int] = {}\n",
    "    for zip_element in zip(all_words_dict.keys(), word_counter):\n",
    "        word_key = zip_element[0]\n",
    "        word_occurrence = zip_element[1]\n",
    "        occurrence_dict[word_key] = word_occurrence\n",
    "\n",
    "    return occurrence_dict"
   ]
  },
  {
   "cell_type": "markdown",
   "metadata": {},
   "source": [
    "# Load Squad File"
   ]
  },
  {
   "cell_type": "code",
   "execution_count": 3,
   "metadata": {},
   "outputs": [],
   "source": [
    "SQUAD_FILE_PATH: str = 'squad_dataset.json'\n",
    "\n",
    "squad = Squad(SQUAD_FILE_PATH)\n",
    "squad_transform = Squad_Transform(squad)\n"
   ]
  },
  {
   "cell_type": "markdown",
   "metadata": {},
   "source": [
    "# Count the occurrence of each word"
   ]
  },
  {
   "cell_type": "code",
   "execution_count": 4,
   "metadata": {},
   "outputs": [],
   "source": [
    "\n",
    "for qas_key, qas_list in squad_transform.title_question_answer_dict.items():\n",
    "    for element in qas_list:\n",
    "        word_indices = get_word_indices(f'{element.question}')\n",
    "        \n",
    "        for index in word_indices:\n",
    "            word_counter[index] += 1\n",
    "        "
   ]
  },
  {
   "cell_type": "markdown",
   "metadata": {},
   "source": [
    "# Verify occurrence dict positions\n",
    "\n",
    "Verify that the positions and word occurrences for each word matches the `word_counter` list. "
   ]
  },
  {
   "cell_type": "code",
   "execution_count": 11,
   "metadata": {},
   "outputs": [
    {
     "name": "stdout",
     "output_type": "stream",
     "text": [
      "True\n"
     ]
    }
   ],
   "source": [
    "occurrence_dict = get_occurrence_dict()\n",
    "\n",
    "success = True\n",
    "for idx, value in enumerate(occurrence_dict.values()):\n",
    "    if value != word_counter[idx]:\n",
    "        success = False\n",
    "\n",
    "print(success)"
   ]
  }
 ],
 "metadata": {
  "interpreter": {
   "hash": "64e23d880b805501f5bfe4166e542d691e15199071dc059f19bfc7b17de3b1db"
  },
  "kernelspec": {
   "display_name": "Python 3.9.4 64-bit ('chat_bot_env': conda)",
   "name": "python3"
  },
  "language_info": {
   "codemirror_mode": {
    "name": "ipython",
    "version": 3
   },
   "file_extension": ".py",
   "mimetype": "text/x-python",
   "name": "python",
   "nbconvert_exporter": "python",
   "pygments_lexer": "ipython3",
   "version": "3.9.4"
  },
  "orig_nbformat": 4
 },
 "nbformat": 4,
 "nbformat_minor": 2
}
